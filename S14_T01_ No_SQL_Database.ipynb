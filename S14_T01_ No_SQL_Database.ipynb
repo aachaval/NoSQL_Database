{
 "cells": [
  {
   "cell_type": "markdown",
   "id": "27da527c",
   "metadata": {},
   "source": [
    "<div class=\"alert alert-block alert-info\"><font size=\"6\"><b>Sprint 14 Task 1 (S14_T01)</b></font><h6 align=\"right\"><u>Author: Alberto Achaval</u></h6></div>"
   ]
  },
  {
   "cell_type": "markdown",
   "id": "767f2329",
   "metadata": {},
   "source": [
    "## <SPAN style=color:#1F618D>Level 1</SPAN>"
   ]
  },
  {
   "cell_type": "markdown",
   "id": "d4de4c29",
   "metadata": {},
   "source": [
    "### <SPAN style=color:#1F618D>Practice 1</SPAN>"
   ]
  },
  {
   "cell_type": "markdown",
   "id": "108d549b",
   "metadata": {},
   "source": [
    "<SPAN style=color:#1F618D>Create a NoSQL database using MongoDB. Add some sample data that will allow you to check that you are able to process the information in a basic way.</SPAN>"
   ]
  },
  {
   "cell_type": "markdown",
   "id": "9918684b",
   "metadata": {},
   "source": [
    "As usual we start by importing required libraries:"
   ]
  },
  {
   "cell_type": "code",
   "execution_count": 1,
   "id": "aabd74a8",
   "metadata": {},
   "outputs": [],
   "source": [
    "import pandas as pd\n",
    "import numpy as np\n",
    "import seaborn as sns\n",
    "import matplotlib.pyplot as plt\n",
    "\n",
    "from pymongo import MongoClient # connect Python to Mongodb"
   ]
  },
  {
   "cell_type": "code",
   "execution_count": 2,
   "id": "958e7b3e",
   "metadata": {},
   "outputs": [],
   "source": [
    "MONGO_URI = 'mongodb://localhost'\n",
    "client = MongoClient(MONGO_URI) # connecting with server in localhost"
   ]
  },
  {
   "cell_type": "markdown",
   "id": "1ff913e6",
   "metadata": {},
   "source": [
    "Let's check for all the Databases we have:"
   ]
  },
  {
   "cell_type": "code",
   "execution_count": 3,
   "id": "d4e22dda",
   "metadata": {},
   "outputs": [
    {
     "data": {
      "text/plain": [
       "['admin', 'config', 'local']"
      ]
     },
     "execution_count": 3,
     "metadata": {},
     "output_type": "execute_result"
    }
   ],
   "source": [
    "client.list_database_names()"
   ]
  },
  {
   "cell_type": "markdown",
   "id": "a7097c55",
   "metadata": {},
   "source": [
    "Now let's create a new database and collection:"
   ]
  },
  {
   "cell_type": "code",
   "execution_count": 4,
   "id": "5e5f62ae",
   "metadata": {},
   "outputs": [
    {
     "data": {
      "text/plain": [
       "Database(MongoClient(host=['localhost:27017'], document_class=dict, tz_aware=False, connect=True), 'books')"
      ]
     },
     "execution_count": 4,
     "metadata": {},
     "output_type": "execute_result"
    }
   ],
   "source": [
    "db = client['books']\n",
    "collection = db['classics']\n",
    "db"
   ]
  },
  {
   "cell_type": "markdown",
   "id": "cf0376c2",
   "metadata": {},
   "source": [
    "Let's load some data about books and their authors:"
   ]
  },
  {
   "cell_type": "code",
   "execution_count": 5,
   "id": "5d683463",
   "metadata": {},
   "outputs": [
    {
     "data": {
      "text/plain": [
       "<pymongo.results.InsertManyResult at 0x180e67a0ec0>"
      ]
     },
     "execution_count": 5,
     "metadata": {},
     "output_type": "execute_result"
    }
   ],
   "source": [
    "book_one = {\"_id\": 1, \"title\": \"Pride and Prejudice\", \"author\": \"Jane Austen\" , \"year\": 1813}\n",
    "book_two = {\"_id\": 2, \"title\": \"The Great Gatsby \", \"author\": \"Harper Lee\" , \"year\": 1960}\n",
    "book_three = {\"_id\": 3, \"title\": \"Pride and Prejudice\", \"author\": \"F. Scott Fitzgerald\" , \"year\": 1925}\n",
    "book_four = {\"_id\": 4, \"title\": \"One Hundred Years of Solitude\", \"author\": \"Gabriel García Márquez\" , \"year\": 1967}\n",
    "book_five = {\"_id\": 5, \"title\": \"In Cold Blood\", \"author\": \"Truman Capote\" , \"year\": 1965}\n",
    "book_six = {\"_id\": 6, \"title\": \"Wide Sargasso Sea\", \"author\": \"Jean Rhys\" , \"year\": 1966}\n",
    "book_seven = {\"_id\": 7, \"title\": \"Brave New World\", \"author\": \"Aldous Huxley\" , \"year\": 1932}\n",
    "book_eight = {\"_id\": 8, \"title\": \"I Capture The Castle\", \"author\": \"Dodie Smith\" , \"year\": 1948}\n",
    "book_nine = {\"_id\": 9, \"title\": \"Jane Eyre\", \"author\": \"Charlotte Bronte\" , \"year\": 1847}\n",
    "book_ten = {\"_id\": 10, \"title\": \"Crime and Punishment \", \"author\": \"Fyodor Dostoevsky\" , \"year\": 1866}\n",
    "book_eleven = {\"_id\": 11, \"title\": \"The Secret History\", \"author\": \"Donna Tartt\" , \"year\": 1992}\n",
    "book_twelve = {\"_id\": 12, \"title\": \"The Call of the Wild\", \"author\": \"Jack London\" , \"year\": 1903}\n",
    "book_thirteen = {\"_id\": 13, \"title\": \"The Chrysalids\", \"author\": \"John Wyndham\" , \"year\": 1955}\n",
    "\n",
    "collection.insert_many([\n",
    "                        book_one, \n",
    "                        book_two, \n",
    "                        book_three, \n",
    "                        book_four, \n",
    "                        book_five, \n",
    "                        book_six, \n",
    "                        book_seven, \n",
    "                        book_eight, \n",
    "                        book_nine, \n",
    "                        book_ten, \n",
    "                        book_eleven, \n",
    "                        book_twelve, \n",
    "                        book_thirteen\n",
    "                       ])"
   ]
  },
  {
   "cell_type": "markdown",
   "id": "0f9afce9",
   "metadata": {},
   "source": [
    "Let's make some queries in order to see the data we have just uploaded:"
   ]
  },
  {
   "cell_type": "code",
   "execution_count": 6,
   "id": "8eaf938e",
   "metadata": {},
   "outputs": [
    {
     "name": "stdout",
     "output_type": "stream",
     "text": [
      "{'_id': 1, 'title': 'Pride and Prejudice', 'author': 'Jane Austen', 'year': 1813}\n",
      "{'_id': 2, 'title': 'The Great Gatsby ', 'author': 'Harper Lee', 'year': 1960}\n",
      "{'_id': 3, 'title': 'Pride and Prejudice', 'author': 'F. Scott Fitzgerald', 'year': 1925}\n",
      "{'_id': 4, 'title': 'One Hundred Years of Solitude', 'author': 'Gabriel García Márquez', 'year': 1967}\n",
      "{'_id': 5, 'title': 'In Cold Blood', 'author': 'Truman Capote', 'year': 1965}\n",
      "{'_id': 6, 'title': 'Wide Sargasso Sea', 'author': 'Jean Rhys', 'year': 1966}\n",
      "{'_id': 7, 'title': 'Brave New World', 'author': 'Aldous Huxley', 'year': 1932}\n",
      "{'_id': 8, 'title': 'I Capture The Castle', 'author': 'Dodie Smith', 'year': 1948}\n",
      "{'_id': 9, 'title': 'Jane Eyre', 'author': 'Charlotte Bronte', 'year': 1847}\n",
      "{'_id': 10, 'title': 'Crime and Punishment ', 'author': 'Fyodor Dostoevsky', 'year': 1866}\n",
      "{'_id': 11, 'title': 'The Secret History', 'author': 'Donna Tartt', 'year': 1992}\n",
      "{'_id': 12, 'title': 'The Call of the Wild', 'author': 'Jack London', 'year': 1903}\n",
      "{'_id': 13, 'title': 'The Chrysalids', 'author': 'John Wyndham', 'year': 1955}\n"
     ]
    }
   ],
   "source": [
    "results = collection.find()\n",
    "\n",
    "for r in results:\n",
    "    print(r)"
   ]
  },
  {
   "cell_type": "markdown",
   "id": "089e6498",
   "metadata": {},
   "source": [
    "Let's filter only the years:"
   ]
  },
  {
   "cell_type": "code",
   "execution_count": 7,
   "id": "d049856e",
   "metadata": {},
   "outputs": [
    {
     "name": "stdout",
     "output_type": "stream",
     "text": [
      "1813\n",
      "1960\n",
      "1925\n",
      "1967\n",
      "1965\n",
      "1966\n",
      "1932\n",
      "1948\n",
      "1847\n",
      "1866\n",
      "1992\n",
      "1903\n",
      "1955\n"
     ]
    }
   ],
   "source": [
    "results = collection.find()\n",
    "\n",
    "for r in results:\n",
    "    print(r[\"year\"])"
   ]
  },
  {
   "cell_type": "markdown",
   "id": "f6ae6643",
   "metadata": {},
   "source": [
    "Filter by author name:"
   ]
  },
  {
   "cell_type": "code",
   "execution_count": 8,
   "id": "a295f00d",
   "metadata": {},
   "outputs": [
    {
     "name": "stdout",
     "output_type": "stream",
     "text": [
      "{'_id': 12, 'title': 'The Call of the Wild', 'author': 'Jack London', 'year': 1903}\n"
     ]
    }
   ],
   "source": [
    "results = collection.find({'author': 'Jack London'})\n",
    "\n",
    "for r in results:\n",
    "    print(r)"
   ]
  },
  {
   "cell_type": "markdown",
   "id": "6277fde1",
   "metadata": {},
   "source": [
    "Delete a document:"
   ]
  },
  {
   "cell_type": "code",
   "execution_count": 9,
   "id": "2f2f64a6",
   "metadata": {},
   "outputs": [
    {
     "data": {
      "text/plain": [
       "<pymongo.results.DeleteResult at 0x180e690f280>"
      ]
     },
     "execution_count": 9,
     "metadata": {},
     "output_type": "execute_result"
    }
   ],
   "source": [
    "collection.delete_one({'author': 'Jack London'})"
   ]
  },
  {
   "cell_type": "code",
   "execution_count": 10,
   "id": "1564d231",
   "metadata": {},
   "outputs": [],
   "source": [
    "results = collection.find({'author': 'Jack London'})\n",
    "\n",
    "for r in results:\n",
    "    print(r)"
   ]
  },
  {
   "cell_type": "markdown",
   "id": "04555f93",
   "metadata": {},
   "source": [
    "Nothing! Deleted!"
   ]
  },
  {
   "cell_type": "markdown",
   "id": "4425b2c6",
   "metadata": {},
   "source": [
    "Now let's update some data:"
   ]
  },
  {
   "cell_type": "code",
   "execution_count": 11,
   "id": "64c196b4",
   "metadata": {},
   "outputs": [
    {
     "data": {
      "text/plain": [
       "<pymongo.results.UpdateResult at 0x180e544a640>"
      ]
     },
     "execution_count": 11,
     "metadata": {},
     "output_type": "execute_result"
    }
   ],
   "source": [
    "collection.update_one({'author': 'Aldous Huxley'}, {'$set': {'author': 'A. Huxley'}})"
   ]
  },
  {
   "cell_type": "code",
   "execution_count": 12,
   "id": "241196d9",
   "metadata": {},
   "outputs": [
    {
     "name": "stdout",
     "output_type": "stream",
     "text": [
      "Jane Austen\n",
      "Harper Lee\n",
      "F. Scott Fitzgerald\n",
      "Gabriel García Márquez\n",
      "Truman Capote\n",
      "Jean Rhys\n",
      "A. Huxley\n",
      "Dodie Smith\n",
      "Charlotte Bronte\n",
      "Fyodor Dostoevsky\n",
      "Donna Tartt\n",
      "John Wyndham\n"
     ]
    }
   ],
   "source": [
    "results = collection.find()\n",
    "\n",
    "for r in results:\n",
    "    print(r[\"author\"])"
   ]
  },
  {
   "cell_type": "markdown",
   "id": "baf52158",
   "metadata": {},
   "source": [
    "### <SPAN style=color:#1F618D>Practice 2</SPAN>"
   ]
  },
  {
   "cell_type": "markdown",
   "id": "0291d509",
   "metadata": {},
   "source": [
    "<SPAN style=color:#1F618D>Connect the NoSQL database to Python using pymongo for example.</SPAN>"
   ]
  },
  {
   "cell_type": "markdown",
   "id": "9ee8f358",
   "metadata": {},
   "source": [
    "It was done in Practice 1."
   ]
  },
  {
   "cell_type": "markdown",
   "id": "12224a8b",
   "metadata": {},
   "source": [
    "## <SPAN style=color:#1F618D>Level 2</SPAN>"
   ]
  },
  {
   "cell_type": "markdown",
   "id": "edfc0f53",
   "metadata": {},
   "source": [
    "### <SPAN style=color:#1F618D>Practice 1</SPAN>"
   ]
  },
  {
   "cell_type": "markdown",
   "id": "3965dc6e",
   "metadata": {},
   "source": [
    "<SPAN style=color:#1F618D>Load some simple queries to a Pandas Dataframe.</SPAN>"
   ]
  },
  {
   "cell_type": "code",
   "execution_count": 13,
   "id": "b81ad50e",
   "metadata": {},
   "outputs": [
    {
     "name": "stdout",
     "output_type": "stream",
     "text": [
      "{'_id': 1, 'title': 'Pride and Prejudice', 'author': 'Jane Austen', 'year': 1813}\n",
      "{'_id': 2, 'title': 'The Great Gatsby ', 'author': 'Harper Lee', 'year': 1960}\n",
      "{'_id': 3, 'title': 'Pride and Prejudice', 'author': 'F. Scott Fitzgerald', 'year': 1925}\n",
      "{'_id': 4, 'title': 'One Hundred Years of Solitude', 'author': 'Gabriel García Márquez', 'year': 1967}\n",
      "{'_id': 5, 'title': 'In Cold Blood', 'author': 'Truman Capote', 'year': 1965}\n",
      "{'_id': 6, 'title': 'Wide Sargasso Sea', 'author': 'Jean Rhys', 'year': 1966}\n",
      "{'_id': 7, 'title': 'Brave New World', 'author': 'A. Huxley', 'year': 1932}\n",
      "{'_id': 8, 'title': 'I Capture The Castle', 'author': 'Dodie Smith', 'year': 1948}\n",
      "{'_id': 9, 'title': 'Jane Eyre', 'author': 'Charlotte Bronte', 'year': 1847}\n",
      "{'_id': 10, 'title': 'Crime and Punishment ', 'author': 'Fyodor Dostoevsky', 'year': 1866}\n",
      "{'_id': 11, 'title': 'The Secret History', 'author': 'Donna Tartt', 'year': 1992}\n",
      "{'_id': 13, 'title': 'The Chrysalids', 'author': 'John Wyndham', 'year': 1955}\n"
     ]
    }
   ],
   "source": [
    "results = collection.find()\n",
    "\n",
    "for r in results:\n",
    "    print(r)"
   ]
  },
  {
   "cell_type": "code",
   "execution_count": 14,
   "id": "fedc732e",
   "metadata": {},
   "outputs": [
    {
     "data": {
      "text/html": [
       "<div>\n",
       "<style scoped>\n",
       "    .dataframe tbody tr th:only-of-type {\n",
       "        vertical-align: middle;\n",
       "    }\n",
       "\n",
       "    .dataframe tbody tr th {\n",
       "        vertical-align: top;\n",
       "    }\n",
       "\n",
       "    .dataframe thead th {\n",
       "        text-align: right;\n",
       "    }\n",
       "</style>\n",
       "<table border=\"1\" class=\"dataframe\">\n",
       "  <thead>\n",
       "    <tr style=\"text-align: right;\">\n",
       "      <th></th>\n",
       "      <th>_id</th>\n",
       "      <th>title</th>\n",
       "      <th>author</th>\n",
       "      <th>year</th>\n",
       "    </tr>\n",
       "  </thead>\n",
       "  <tbody>\n",
       "    <tr>\n",
       "      <th>0</th>\n",
       "      <td>1</td>\n",
       "      <td>Pride and Prejudice</td>\n",
       "      <td>Jane Austen</td>\n",
       "      <td>1813</td>\n",
       "    </tr>\n",
       "    <tr>\n",
       "      <th>1</th>\n",
       "      <td>2</td>\n",
       "      <td>The Great Gatsby</td>\n",
       "      <td>Harper Lee</td>\n",
       "      <td>1960</td>\n",
       "    </tr>\n",
       "    <tr>\n",
       "      <th>2</th>\n",
       "      <td>3</td>\n",
       "      <td>Pride and Prejudice</td>\n",
       "      <td>F. Scott Fitzgerald</td>\n",
       "      <td>1925</td>\n",
       "    </tr>\n",
       "    <tr>\n",
       "      <th>3</th>\n",
       "      <td>4</td>\n",
       "      <td>One Hundred Years of Solitude</td>\n",
       "      <td>Gabriel García Márquez</td>\n",
       "      <td>1967</td>\n",
       "    </tr>\n",
       "    <tr>\n",
       "      <th>4</th>\n",
       "      <td>5</td>\n",
       "      <td>In Cold Blood</td>\n",
       "      <td>Truman Capote</td>\n",
       "      <td>1965</td>\n",
       "    </tr>\n",
       "    <tr>\n",
       "      <th>5</th>\n",
       "      <td>6</td>\n",
       "      <td>Wide Sargasso Sea</td>\n",
       "      <td>Jean Rhys</td>\n",
       "      <td>1966</td>\n",
       "    </tr>\n",
       "    <tr>\n",
       "      <th>6</th>\n",
       "      <td>7</td>\n",
       "      <td>Brave New World</td>\n",
       "      <td>A. Huxley</td>\n",
       "      <td>1932</td>\n",
       "    </tr>\n",
       "    <tr>\n",
       "      <th>7</th>\n",
       "      <td>8</td>\n",
       "      <td>I Capture The Castle</td>\n",
       "      <td>Dodie Smith</td>\n",
       "      <td>1948</td>\n",
       "    </tr>\n",
       "    <tr>\n",
       "      <th>8</th>\n",
       "      <td>9</td>\n",
       "      <td>Jane Eyre</td>\n",
       "      <td>Charlotte Bronte</td>\n",
       "      <td>1847</td>\n",
       "    </tr>\n",
       "    <tr>\n",
       "      <th>9</th>\n",
       "      <td>10</td>\n",
       "      <td>Crime and Punishment</td>\n",
       "      <td>Fyodor Dostoevsky</td>\n",
       "      <td>1866</td>\n",
       "    </tr>\n",
       "    <tr>\n",
       "      <th>10</th>\n",
       "      <td>11</td>\n",
       "      <td>The Secret History</td>\n",
       "      <td>Donna Tartt</td>\n",
       "      <td>1992</td>\n",
       "    </tr>\n",
       "    <tr>\n",
       "      <th>11</th>\n",
       "      <td>13</td>\n",
       "      <td>The Chrysalids</td>\n",
       "      <td>John Wyndham</td>\n",
       "      <td>1955</td>\n",
       "    </tr>\n",
       "  </tbody>\n",
       "</table>\n",
       "</div>"
      ],
      "text/plain": [
       "    _id                          title                  author  year\n",
       "0     1            Pride and Prejudice             Jane Austen  1813\n",
       "1     2              The Great Gatsby               Harper Lee  1960\n",
       "2     3            Pride and Prejudice     F. Scott Fitzgerald  1925\n",
       "3     4  One Hundred Years of Solitude  Gabriel García Márquez  1967\n",
       "4     5                  In Cold Blood           Truman Capote  1965\n",
       "5     6              Wide Sargasso Sea               Jean Rhys  1966\n",
       "6     7                Brave New World               A. Huxley  1932\n",
       "7     8           I Capture The Castle             Dodie Smith  1948\n",
       "8     9                      Jane Eyre        Charlotte Bronte  1847\n",
       "9    10          Crime and Punishment        Fyodor Dostoevsky  1866\n",
       "10   11             The Secret History             Donna Tartt  1992\n",
       "11   13                 The Chrysalids            John Wyndham  1955"
      ]
     },
     "execution_count": 14,
     "metadata": {},
     "output_type": "execute_result"
    }
   ],
   "source": [
    "collection_df = pd.DataFrame(list(collection.find()))\n",
    "collection_df"
   ]
  },
  {
   "cell_type": "markdown",
   "id": "3ca40e54",
   "metadata": {},
   "source": [
    "#### Loading a dataframe from Pandas to a Mongodb database:"
   ]
  },
  {
   "cell_type": "markdown",
   "id": "0b6b1b33",
   "metadata": {},
   "source": [
    "The following dataframe has a collection af books wit some qualitative and quantitative features.\n",
    "\n",
    "* **isbn**: Another unique number to identify the book, the International Standard Book Number.\n",
    "* **ratings_count**: Total number of ratings the book received.\n",
    "* **text_review_count**: Total number of written text reviews the book received. \n",
    "\n",
    "\n",
    "Source: https://www.kaggle.com/datasets/jealousleopard/goodreadsbooks"
   ]
  },
  {
   "cell_type": "code",
   "execution_count": 15,
   "id": "06eaee85",
   "metadata": {
    "scrolled": false
   },
   "outputs": [
    {
     "name": "stderr",
     "output_type": "stream",
     "text": [
      "C:\\Users\\AlbertoAR\\AppData\\Local\\Temp\\ipykernel_13628\\886628468.py:1: FutureWarning: The error_bad_lines argument has been deprecated and will be removed in a future version. Use on_bad_lines in the future.\n",
      "\n",
      "\n",
      "  books_df = pd.read_csv(\"books.csv\", error_bad_lines=False)\n",
      "b'Skipping line 3350: expected 12 fields, saw 13\\nSkipping line 4704: expected 12 fields, saw 13\\nSkipping line 5879: expected 12 fields, saw 13\\nSkipping line 8981: expected 12 fields, saw 13\\n'\n"
     ]
    },
    {
     "data": {
      "text/html": [
       "<div>\n",
       "<style scoped>\n",
       "    .dataframe tbody tr th:only-of-type {\n",
       "        vertical-align: middle;\n",
       "    }\n",
       "\n",
       "    .dataframe tbody tr th {\n",
       "        vertical-align: top;\n",
       "    }\n",
       "\n",
       "    .dataframe thead th {\n",
       "        text-align: right;\n",
       "    }\n",
       "</style>\n",
       "<table border=\"1\" class=\"dataframe\">\n",
       "  <thead>\n",
       "    <tr style=\"text-align: right;\">\n",
       "      <th></th>\n",
       "      <th>bookID</th>\n",
       "      <th>title</th>\n",
       "      <th>authors</th>\n",
       "      <th>average_rating</th>\n",
       "      <th>isbn</th>\n",
       "      <th>isbn13</th>\n",
       "      <th>language_code</th>\n",
       "      <th>num_pages</th>\n",
       "      <th>ratings_count</th>\n",
       "      <th>text_reviews_count</th>\n",
       "      <th>publication_date</th>\n",
       "      <th>publisher</th>\n",
       "    </tr>\n",
       "  </thead>\n",
       "  <tbody>\n",
       "    <tr>\n",
       "      <th>0</th>\n",
       "      <td>1</td>\n",
       "      <td>Harry Potter and the Half-Blood Prince (Harry ...</td>\n",
       "      <td>J.K. Rowling/Mary GrandPré</td>\n",
       "      <td>4.57</td>\n",
       "      <td>0439785960</td>\n",
       "      <td>9780439785969</td>\n",
       "      <td>eng</td>\n",
       "      <td>652</td>\n",
       "      <td>2095690</td>\n",
       "      <td>27591</td>\n",
       "      <td>9/16/2006</td>\n",
       "      <td>Scholastic Inc.</td>\n",
       "    </tr>\n",
       "    <tr>\n",
       "      <th>1</th>\n",
       "      <td>2</td>\n",
       "      <td>Harry Potter and the Order of the Phoenix (Har...</td>\n",
       "      <td>J.K. Rowling/Mary GrandPré</td>\n",
       "      <td>4.49</td>\n",
       "      <td>0439358078</td>\n",
       "      <td>9780439358071</td>\n",
       "      <td>eng</td>\n",
       "      <td>870</td>\n",
       "      <td>2153167</td>\n",
       "      <td>29221</td>\n",
       "      <td>9/1/2004</td>\n",
       "      <td>Scholastic Inc.</td>\n",
       "    </tr>\n",
       "    <tr>\n",
       "      <th>2</th>\n",
       "      <td>4</td>\n",
       "      <td>Harry Potter and the Chamber of Secrets (Harry...</td>\n",
       "      <td>J.K. Rowling</td>\n",
       "      <td>4.42</td>\n",
       "      <td>0439554896</td>\n",
       "      <td>9780439554893</td>\n",
       "      <td>eng</td>\n",
       "      <td>352</td>\n",
       "      <td>6333</td>\n",
       "      <td>244</td>\n",
       "      <td>11/1/2003</td>\n",
       "      <td>Scholastic</td>\n",
       "    </tr>\n",
       "    <tr>\n",
       "      <th>3</th>\n",
       "      <td>5</td>\n",
       "      <td>Harry Potter and the Prisoner of Azkaban (Harr...</td>\n",
       "      <td>J.K. Rowling/Mary GrandPré</td>\n",
       "      <td>4.56</td>\n",
       "      <td>043965548X</td>\n",
       "      <td>9780439655484</td>\n",
       "      <td>eng</td>\n",
       "      <td>435</td>\n",
       "      <td>2339585</td>\n",
       "      <td>36325</td>\n",
       "      <td>5/1/2004</td>\n",
       "      <td>Scholastic Inc.</td>\n",
       "    </tr>\n",
       "    <tr>\n",
       "      <th>4</th>\n",
       "      <td>8</td>\n",
       "      <td>Harry Potter Boxed Set  Books 1-5 (Harry Potte...</td>\n",
       "      <td>J.K. Rowling/Mary GrandPré</td>\n",
       "      <td>4.78</td>\n",
       "      <td>0439682584</td>\n",
       "      <td>9780439682589</td>\n",
       "      <td>eng</td>\n",
       "      <td>2690</td>\n",
       "      <td>41428</td>\n",
       "      <td>164</td>\n",
       "      <td>9/13/2004</td>\n",
       "      <td>Scholastic</td>\n",
       "    </tr>\n",
       "  </tbody>\n",
       "</table>\n",
       "</div>"
      ],
      "text/plain": [
       "   bookID                                              title  \\\n",
       "0       1  Harry Potter and the Half-Blood Prince (Harry ...   \n",
       "1       2  Harry Potter and the Order of the Phoenix (Har...   \n",
       "2       4  Harry Potter and the Chamber of Secrets (Harry...   \n",
       "3       5  Harry Potter and the Prisoner of Azkaban (Harr...   \n",
       "4       8  Harry Potter Boxed Set  Books 1-5 (Harry Potte...   \n",
       "\n",
       "                      authors  average_rating        isbn         isbn13  \\\n",
       "0  J.K. Rowling/Mary GrandPré            4.57  0439785960  9780439785969   \n",
       "1  J.K. Rowling/Mary GrandPré            4.49  0439358078  9780439358071   \n",
       "2                J.K. Rowling            4.42  0439554896  9780439554893   \n",
       "3  J.K. Rowling/Mary GrandPré            4.56  043965548X  9780439655484   \n",
       "4  J.K. Rowling/Mary GrandPré            4.78  0439682584  9780439682589   \n",
       "\n",
       "  language_code    num_pages  ratings_count  text_reviews_count  \\\n",
       "0           eng          652        2095690               27591   \n",
       "1           eng          870        2153167               29221   \n",
       "2           eng          352           6333                 244   \n",
       "3           eng          435        2339585               36325   \n",
       "4           eng         2690          41428                 164   \n",
       "\n",
       "  publication_date        publisher  \n",
       "0        9/16/2006  Scholastic Inc.  \n",
       "1         9/1/2004  Scholastic Inc.  \n",
       "2        11/1/2003       Scholastic  \n",
       "3         5/1/2004  Scholastic Inc.  \n",
       "4        9/13/2004       Scholastic  "
      ]
     },
     "execution_count": 15,
     "metadata": {},
     "output_type": "execute_result"
    }
   ],
   "source": [
    "books_df = pd.read_csv(\"books.csv\", error_bad_lines=False)\n",
    "books_df.head()"
   ]
  },
  {
   "cell_type": "code",
   "execution_count": 16,
   "id": "8a76c587",
   "metadata": {},
   "outputs": [
    {
     "data": {
      "text/html": [
       "<div>\n",
       "<style scoped>\n",
       "    .dataframe tbody tr th:only-of-type {\n",
       "        vertical-align: middle;\n",
       "    }\n",
       "\n",
       "    .dataframe tbody tr th {\n",
       "        vertical-align: top;\n",
       "    }\n",
       "\n",
       "    .dataframe thead th {\n",
       "        text-align: right;\n",
       "    }\n",
       "</style>\n",
       "<table border=\"1\" class=\"dataframe\">\n",
       "  <thead>\n",
       "    <tr style=\"text-align: right;\">\n",
       "      <th></th>\n",
       "      <th>bookID</th>\n",
       "      <th>average_rating</th>\n",
       "      <th>isbn13</th>\n",
       "      <th>num_pages</th>\n",
       "      <th>ratings_count</th>\n",
       "      <th>text_reviews_count</th>\n",
       "    </tr>\n",
       "  </thead>\n",
       "  <tbody>\n",
       "    <tr>\n",
       "      <th>count</th>\n",
       "      <td>11123.000000</td>\n",
       "      <td>11123.000000</td>\n",
       "      <td>1.112300e+04</td>\n",
       "      <td>11123.000000</td>\n",
       "      <td>1.112300e+04</td>\n",
       "      <td>11123.000000</td>\n",
       "    </tr>\n",
       "    <tr>\n",
       "      <th>mean</th>\n",
       "      <td>21310.856963</td>\n",
       "      <td>3.934075</td>\n",
       "      <td>9.759880e+12</td>\n",
       "      <td>336.405556</td>\n",
       "      <td>1.794285e+04</td>\n",
       "      <td>542.048099</td>\n",
       "    </tr>\n",
       "    <tr>\n",
       "      <th>std</th>\n",
       "      <td>13094.727252</td>\n",
       "      <td>0.350485</td>\n",
       "      <td>4.429758e+11</td>\n",
       "      <td>241.152626</td>\n",
       "      <td>1.124992e+05</td>\n",
       "      <td>2576.619589</td>\n",
       "    </tr>\n",
       "    <tr>\n",
       "      <th>min</th>\n",
       "      <td>1.000000</td>\n",
       "      <td>0.000000</td>\n",
       "      <td>8.987060e+09</td>\n",
       "      <td>0.000000</td>\n",
       "      <td>0.000000e+00</td>\n",
       "      <td>0.000000</td>\n",
       "    </tr>\n",
       "    <tr>\n",
       "      <th>25%</th>\n",
       "      <td>10277.500000</td>\n",
       "      <td>3.770000</td>\n",
       "      <td>9.780345e+12</td>\n",
       "      <td>192.000000</td>\n",
       "      <td>1.040000e+02</td>\n",
       "      <td>9.000000</td>\n",
       "    </tr>\n",
       "    <tr>\n",
       "      <th>50%</th>\n",
       "      <td>20287.000000</td>\n",
       "      <td>3.960000</td>\n",
       "      <td>9.780582e+12</td>\n",
       "      <td>299.000000</td>\n",
       "      <td>7.450000e+02</td>\n",
       "      <td>47.000000</td>\n",
       "    </tr>\n",
       "    <tr>\n",
       "      <th>75%</th>\n",
       "      <td>32104.500000</td>\n",
       "      <td>4.140000</td>\n",
       "      <td>9.780872e+12</td>\n",
       "      <td>416.000000</td>\n",
       "      <td>5.000500e+03</td>\n",
       "      <td>238.000000</td>\n",
       "    </tr>\n",
       "    <tr>\n",
       "      <th>max</th>\n",
       "      <td>45641.000000</td>\n",
       "      <td>5.000000</td>\n",
       "      <td>9.790008e+12</td>\n",
       "      <td>6576.000000</td>\n",
       "      <td>4.597666e+06</td>\n",
       "      <td>94265.000000</td>\n",
       "    </tr>\n",
       "  </tbody>\n",
       "</table>\n",
       "</div>"
      ],
      "text/plain": [
       "             bookID  average_rating        isbn13     num_pages  \\\n",
       "count  11123.000000    11123.000000  1.112300e+04  11123.000000   \n",
       "mean   21310.856963        3.934075  9.759880e+12    336.405556   \n",
       "std    13094.727252        0.350485  4.429758e+11    241.152626   \n",
       "min        1.000000        0.000000  8.987060e+09      0.000000   \n",
       "25%    10277.500000        3.770000  9.780345e+12    192.000000   \n",
       "50%    20287.000000        3.960000  9.780582e+12    299.000000   \n",
       "75%    32104.500000        4.140000  9.780872e+12    416.000000   \n",
       "max    45641.000000        5.000000  9.790008e+12   6576.000000   \n",
       "\n",
       "       ratings_count  text_reviews_count  \n",
       "count   1.112300e+04        11123.000000  \n",
       "mean    1.794285e+04          542.048099  \n",
       "std     1.124992e+05         2576.619589  \n",
       "min     0.000000e+00            0.000000  \n",
       "25%     1.040000e+02            9.000000  \n",
       "50%     7.450000e+02           47.000000  \n",
       "75%     5.000500e+03          238.000000  \n",
       "max     4.597666e+06        94265.000000  "
      ]
     },
     "execution_count": 16,
     "metadata": {},
     "output_type": "execute_result"
    }
   ],
   "source": [
    "books_df.describe()"
   ]
  },
  {
   "cell_type": "markdown",
   "id": "1b0b9ac4",
   "metadata": {},
   "source": [
    "Now let's store it in our Mongodb database:"
   ]
  },
  {
   "cell_type": "code",
   "execution_count": 17,
   "id": "85888aed",
   "metadata": {},
   "outputs": [],
   "source": [
    "data_dict = books_df.to_dict(\"records\") # transform Dataframe to dict for Mongodb"
   ]
  },
  {
   "cell_type": "code",
   "execution_count": 18,
   "id": "7e80e514",
   "metadata": {},
   "outputs": [
    {
     "data": {
      "text/plain": [
       "<pymongo.results.InsertManyResult at 0x180ecb760c0>"
      ]
     },
     "execution_count": 18,
     "metadata": {},
     "output_type": "execute_result"
    }
   ],
   "source": [
    "collection.insert_many(data_dict) # insert into 'books' database"
   ]
  },
  {
   "cell_type": "markdown",
   "id": "1e7e3fb3",
   "metadata": {},
   "source": [
    "Let's go back to a Pandas Dataframe containing books with average_rating > (grater than) 4:"
   ]
  },
  {
   "cell_type": "code",
   "execution_count": 19,
   "id": "0afdf2e6",
   "metadata": {},
   "outputs": [
    {
     "data": {
      "text/html": [
       "<div>\n",
       "<style scoped>\n",
       "    .dataframe tbody tr th:only-of-type {\n",
       "        vertical-align: middle;\n",
       "    }\n",
       "\n",
       "    .dataframe tbody tr th {\n",
       "        vertical-align: top;\n",
       "    }\n",
       "\n",
       "    .dataframe thead th {\n",
       "        text-align: right;\n",
       "    }\n",
       "</style>\n",
       "<table border=\"1\" class=\"dataframe\">\n",
       "  <thead>\n",
       "    <tr style=\"text-align: right;\">\n",
       "      <th></th>\n",
       "      <th>_id</th>\n",
       "      <th>bookID</th>\n",
       "      <th>title</th>\n",
       "      <th>authors</th>\n",
       "      <th>average_rating</th>\n",
       "      <th>isbn</th>\n",
       "      <th>isbn13</th>\n",
       "      <th>language_code</th>\n",
       "      <th>num_pages</th>\n",
       "      <th>ratings_count</th>\n",
       "      <th>text_reviews_count</th>\n",
       "      <th>publication_date</th>\n",
       "      <th>publisher</th>\n",
       "    </tr>\n",
       "  </thead>\n",
       "  <tbody>\n",
       "    <tr>\n",
       "      <th>345</th>\n",
       "      <td>628e15dea350a56afc498101</td>\n",
       "      <td>2718</td>\n",
       "      <td>Salt in His Shoes: Michael Jordan in Pursuit o...</td>\n",
       "      <td>Deloris Jordan/Kadir Nelson/Roslyn M. Jordan</td>\n",
       "      <td>4.20</td>\n",
       "      <td>0689834195</td>\n",
       "      <td>9780689834196</td>\n",
       "      <td>eng</td>\n",
       "      <td>32</td>\n",
       "      <td>1178</td>\n",
       "      <td>173</td>\n",
       "      <td>11/1/2003</td>\n",
       "      <td>Simon  Schuster Books for Young Readers</td>\n",
       "    </tr>\n",
       "    <tr>\n",
       "      <th>1418</th>\n",
       "      <td>628e15dea350a56afc498a9c</td>\n",
       "      <td>12018</td>\n",
       "      <td>Exzession (Culture  #5)</td>\n",
       "      <td>Iain M. Banks/Irene Bonhorst</td>\n",
       "      <td>4.21</td>\n",
       "      <td>3453196791</td>\n",
       "      <td>9783453196797</td>\n",
       "      <td>ger</td>\n",
       "      <td>655</td>\n",
       "      <td>24</td>\n",
       "      <td>2</td>\n",
       "      <td>3/1/2002</td>\n",
       "      <td>Heyne</td>\n",
       "    </tr>\n",
       "    <tr>\n",
       "      <th>747</th>\n",
       "      <td>628e15dea350a56afc4984c5</td>\n",
       "      <td>6290</td>\n",
       "      <td>The Road to Serfdom</td>\n",
       "      <td>Friedrich A. Hayek</td>\n",
       "      <td>4.18</td>\n",
       "      <td>0415253896</td>\n",
       "      <td>9780415253895</td>\n",
       "      <td>eng</td>\n",
       "      <td>272</td>\n",
       "      <td>258</td>\n",
       "      <td>23</td>\n",
       "      <td>3/9/2006</td>\n",
       "      <td>Routledge</td>\n",
       "    </tr>\n",
       "    <tr>\n",
       "      <th>2270</th>\n",
       "      <td>628e15dea350a56afc4991b8</td>\n",
       "      <td>18420</td>\n",
       "      <td>Hands of Light: A Guide to Healing Through the...</td>\n",
       "      <td>Barbara Ann Brennan/Jos. A. Smith</td>\n",
       "      <td>4.27</td>\n",
       "      <td>0553345397</td>\n",
       "      <td>9780553345391</td>\n",
       "      <td>eng</td>\n",
       "      <td>320</td>\n",
       "      <td>10878</td>\n",
       "      <td>106</td>\n",
       "      <td>2/1/1990</td>\n",
       "      <td>Bantam</td>\n",
       "    </tr>\n",
       "    <tr>\n",
       "      <th>171</th>\n",
       "      <td>628e15dea350a56afc497f8f</td>\n",
       "      <td>1473</td>\n",
       "      <td>Medea and Other Plays</td>\n",
       "      <td>Euripides/John Davie/Richard Rutherford</td>\n",
       "      <td>4.03</td>\n",
       "      <td>0140449299</td>\n",
       "      <td>9780140449297</td>\n",
       "      <td>eng</td>\n",
       "      <td>206</td>\n",
       "      <td>9197</td>\n",
       "      <td>120</td>\n",
       "      <td>3/27/2003</td>\n",
       "      <td>Penguin Books</td>\n",
       "    </tr>\n",
       "  </tbody>\n",
       "</table>\n",
       "</div>"
      ],
      "text/plain": [
       "                           _id  bookID  \\\n",
       "345   628e15dea350a56afc498101    2718   \n",
       "1418  628e15dea350a56afc498a9c   12018   \n",
       "747   628e15dea350a56afc4984c5    6290   \n",
       "2270  628e15dea350a56afc4991b8   18420   \n",
       "171   628e15dea350a56afc497f8f    1473   \n",
       "\n",
       "                                                  title  \\\n",
       "345   Salt in His Shoes: Michael Jordan in Pursuit o...   \n",
       "1418                            Exzession (Culture  #5)   \n",
       "747                                 The Road to Serfdom   \n",
       "2270  Hands of Light: A Guide to Healing Through the...   \n",
       "171                               Medea and Other Plays   \n",
       "\n",
       "                                           authors  average_rating  \\\n",
       "345   Deloris Jordan/Kadir Nelson/Roslyn M. Jordan            4.20   \n",
       "1418                  Iain M. Banks/Irene Bonhorst            4.21   \n",
       "747                             Friedrich A. Hayek            4.18   \n",
       "2270             Barbara Ann Brennan/Jos. A. Smith            4.27   \n",
       "171        Euripides/John Davie/Richard Rutherford            4.03   \n",
       "\n",
       "            isbn         isbn13 language_code    num_pages  ratings_count  \\\n",
       "345   0689834195  9780689834196           eng           32           1178   \n",
       "1418  3453196791  9783453196797           ger          655             24   \n",
       "747   0415253896  9780415253895           eng          272            258   \n",
       "2270  0553345397  9780553345391           eng          320          10878   \n",
       "171   0140449299  9780140449297           eng          206           9197   \n",
       "\n",
       "      text_reviews_count publication_date  \\\n",
       "345                  173        11/1/2003   \n",
       "1418                   2         3/1/2002   \n",
       "747                   23         3/9/2006   \n",
       "2270                 106         2/1/1990   \n",
       "171                  120        3/27/2003   \n",
       "\n",
       "                                    publisher  \n",
       "345   Simon  Schuster Books for Young Readers  \n",
       "1418                                    Heyne  \n",
       "747                                 Routledge  \n",
       "2270                                   Bantam  \n",
       "171                             Penguin Books  "
      ]
     },
     "execution_count": 19,
     "metadata": {},
     "output_type": "execute_result"
    }
   ],
   "source": [
    "collection_df2 = pd.DataFrame(list(collection.find({\"average_rating\": {\"$gt\": 4}})))\n",
    "collection_df2.sample(5)"
   ]
  },
  {
   "cell_type": "markdown",
   "id": "e6a4b0d4",
   "metadata": {},
   "source": [
    "## <SPAN style=color:#1F618D>Level 3</SPAN>"
   ]
  },
  {
   "cell_type": "markdown",
   "id": "3252a6df",
   "metadata": {},
   "source": [
    "### <SPAN style=color:#1F618D>Practice 1</SPAN>"
   ]
  },
  {
   "cell_type": "markdown",
   "id": "39e9e8bf",
   "metadata": {},
   "source": [
    "<SPAN style=color:#1F618D>Generate a statistical summary of the information contained in the database.</SPAN>"
   ]
  },
  {
   "cell_type": "markdown",
   "id": "7fd961ae",
   "metadata": {},
   "source": [
    "Let's do a basic statistical summary of the books database that we have on collection_df2:"
   ]
  },
  {
   "cell_type": "code",
   "execution_count": 20,
   "id": "62bc7ee0",
   "metadata": {},
   "outputs": [
    {
     "data": {
      "text/html": [
       "<div>\n",
       "<style scoped>\n",
       "    .dataframe tbody tr th:only-of-type {\n",
       "        vertical-align: middle;\n",
       "    }\n",
       "\n",
       "    .dataframe tbody tr th {\n",
       "        vertical-align: top;\n",
       "    }\n",
       "\n",
       "    .dataframe thead th {\n",
       "        text-align: right;\n",
       "    }\n",
       "</style>\n",
       "<table border=\"1\" class=\"dataframe\">\n",
       "  <thead>\n",
       "    <tr style=\"text-align: right;\">\n",
       "      <th></th>\n",
       "      <th>bookID</th>\n",
       "      <th>average_rating</th>\n",
       "      <th>isbn13</th>\n",
       "      <th>num_pages</th>\n",
       "      <th>ratings_count</th>\n",
       "      <th>text_reviews_count</th>\n",
       "    </tr>\n",
       "  </thead>\n",
       "  <tbody>\n",
       "    <tr>\n",
       "      <th>count</th>\n",
       "      <td>4735.000000</td>\n",
       "      <td>4735.000000</td>\n",
       "      <td>4.735000e+03</td>\n",
       "      <td>4735.000000</td>\n",
       "      <td>4.735000e+03</td>\n",
       "      <td>4735.00000</td>\n",
       "    </tr>\n",
       "    <tr>\n",
       "      <th>mean</th>\n",
       "      <td>20737.281521</td>\n",
       "      <td>4.198929</td>\n",
       "      <td>9.760811e+12</td>\n",
       "      <td>374.375924</td>\n",
       "      <td>2.201569e+04</td>\n",
       "      <td>630.45660</td>\n",
       "    </tr>\n",
       "    <tr>\n",
       "      <th>std</th>\n",
       "      <td>12799.384323</td>\n",
       "      <td>0.154100</td>\n",
       "      <td>4.376564e+11</td>\n",
       "      <td>304.257839</td>\n",
       "      <td>1.197278e+05</td>\n",
       "      <td>2896.91091</td>\n",
       "    </tr>\n",
       "    <tr>\n",
       "      <th>min</th>\n",
       "      <td>1.000000</td>\n",
       "      <td>4.010000</td>\n",
       "      <td>8.987060e+09</td>\n",
       "      <td>0.000000</td>\n",
       "      <td>0.000000e+00</td>\n",
       "      <td>0.00000</td>\n",
       "    </tr>\n",
       "    <tr>\n",
       "      <th>25%</th>\n",
       "      <td>10082.000000</td>\n",
       "      <td>4.080000</td>\n",
       "      <td>9.780375e+12</td>\n",
       "      <td>192.000000</td>\n",
       "      <td>1.380000e+02</td>\n",
       "      <td>10.00000</td>\n",
       "    </tr>\n",
       "    <tr>\n",
       "      <th>50%</th>\n",
       "      <td>19199.000000</td>\n",
       "      <td>4.170000</td>\n",
       "      <td>9.780672e+12</td>\n",
       "      <td>316.000000</td>\n",
       "      <td>9.190000e+02</td>\n",
       "      <td>49.00000</td>\n",
       "    </tr>\n",
       "    <tr>\n",
       "      <th>75%</th>\n",
       "      <td>31089.500000</td>\n",
       "      <td>4.280000</td>\n",
       "      <td>9.780941e+12</td>\n",
       "      <td>472.000000</td>\n",
       "      <td>6.263500e+03</td>\n",
       "      <td>250.00000</td>\n",
       "    </tr>\n",
       "    <tr>\n",
       "      <th>max</th>\n",
       "      <td>45633.000000</td>\n",
       "      <td>5.000000</td>\n",
       "      <td>9.790008e+12</td>\n",
       "      <td>6576.000000</td>\n",
       "      <td>2.530894e+06</td>\n",
       "      <td>86881.00000</td>\n",
       "    </tr>\n",
       "  </tbody>\n",
       "</table>\n",
       "</div>"
      ],
      "text/plain": [
       "             bookID  average_rating        isbn13    num_pages  ratings_count  \\\n",
       "count   4735.000000     4735.000000  4.735000e+03  4735.000000   4.735000e+03   \n",
       "mean   20737.281521        4.198929  9.760811e+12   374.375924   2.201569e+04   \n",
       "std    12799.384323        0.154100  4.376564e+11   304.257839   1.197278e+05   \n",
       "min        1.000000        4.010000  8.987060e+09     0.000000   0.000000e+00   \n",
       "25%    10082.000000        4.080000  9.780375e+12   192.000000   1.380000e+02   \n",
       "50%    19199.000000        4.170000  9.780672e+12   316.000000   9.190000e+02   \n",
       "75%    31089.500000        4.280000  9.780941e+12   472.000000   6.263500e+03   \n",
       "max    45633.000000        5.000000  9.790008e+12  6576.000000   2.530894e+06   \n",
       "\n",
       "       text_reviews_count  \n",
       "count          4735.00000  \n",
       "mean            630.45660  \n",
       "std            2896.91091  \n",
       "min               0.00000  \n",
       "25%              10.00000  \n",
       "50%              49.00000  \n",
       "75%             250.00000  \n",
       "max           86881.00000  "
      ]
     },
     "execution_count": 20,
     "metadata": {},
     "output_type": "execute_result"
    }
   ],
   "source": [
    "collection_df2.describe()"
   ]
  },
  {
   "cell_type": "code",
   "execution_count": 21,
   "id": "27d011e5",
   "metadata": {},
   "outputs": [
    {
     "name": "stdout",
     "output_type": "stream",
     "text": [
      "<class 'pandas.core.frame.DataFrame'>\n",
      "RangeIndex: 4735 entries, 0 to 4734\n",
      "Data columns (total 13 columns):\n",
      " #   Column              Non-Null Count  Dtype  \n",
      "---  ------              --------------  -----  \n",
      " 0   _id                 4735 non-null   object \n",
      " 1   bookID              4735 non-null   int64  \n",
      " 2   title               4735 non-null   object \n",
      " 3   authors             4735 non-null   object \n",
      " 4   average_rating      4735 non-null   float64\n",
      " 5   isbn                4735 non-null   object \n",
      " 6   isbn13              4735 non-null   int64  \n",
      " 7   language_code       4735 non-null   object \n",
      " 8     num_pages         4735 non-null   int64  \n",
      " 9   ratings_count       4735 non-null   int64  \n",
      " 10  text_reviews_count  4735 non-null   int64  \n",
      " 11  publication_date    4735 non-null   object \n",
      " 12  publisher           4735 non-null   object \n",
      "dtypes: float64(1), int64(5), object(7)\n",
      "memory usage: 481.0+ KB\n"
     ]
    }
   ],
   "source": [
    "collection_df2.info()"
   ]
  },
  {
   "cell_type": "code",
   "execution_count": 22,
   "id": "f27799de",
   "metadata": {},
   "outputs": [],
   "source": [
    "collection_df2.rename(columns = {'  num_pages':'num_pages'}, inplace = True)"
   ]
  },
  {
   "cell_type": "code",
   "execution_count": 23,
   "id": "3bc60db0",
   "metadata": {},
   "outputs": [
    {
     "data": {
      "text/plain": [
       "0"
      ]
     },
     "execution_count": 23,
     "metadata": {},
     "output_type": "execute_result"
    }
   ],
   "source": [
    "collection_df2.isnull().sum().sum()"
   ]
  },
  {
   "cell_type": "markdown",
   "id": "205ce2fe",
   "metadata": {},
   "source": [
    "No NaN's."
   ]
  },
  {
   "cell_type": "code",
   "execution_count": 24,
   "id": "869d1ed6",
   "metadata": {
    "scrolled": true
   },
   "outputs": [
    {
     "data": {
      "image/png": "[encoded data removed]",
      "text/plain": [
       "<Figure size 1008x360 with 1 Axes>"
      ]
     },
     "metadata": {
      "needs_background": "light"
     },
     "output_type": "display_data"
    }
   ],
   "source": [
    "fig, ax = plt.subplots(figsize = (14, 5))\n",
    "\n",
    "sns.histplot(collection_df2.language_code, stat = 'percent')\n",
    "\n",
    "plt.title('Books by language')\n",
    "\n",
    "plt.show()"
   ]
  },
  {
   "cell_type": "markdown",
   "id": "d4a7bb2c",
   "metadata": {},
   "source": [
    "English language books are by far the most common with over 80% of the share. "
   ]
  },
  {
   "cell_type": "markdown",
   "id": "c94553d1",
   "metadata": {},
   "source": [
    "Let's look for relationships between numerical variables. First we need to scale data."
   ]
  },
  {
   "cell_type": "code",
   "execution_count": 25,
   "id": "e2b30f4d",
   "metadata": {},
   "outputs": [
    {
     "data": {
      "image/png": "[encoded data removed]",
      "text/plain": [
       "<Figure size 720x720 with 20 Axes>"
      ]
     },
     "metadata": {
      "needs_background": "light"
     },
     "output_type": "display_data"
    }
   ],
   "source": [
    "from sklearn.preprocessing import MinMaxScaler\n",
    "\n",
    "num_var = collection_df2[['average_rating', 'num_pages', 'ratings_count', 'text_reviews_count']]\n",
    "\n",
    "num_var_nm = pd.DataFrame(MinMaxScaler().fit_transform(num_var), columns = num_var.columns)\n",
    "\n",
    "sns.pairplot(num_var_nm)\n",
    "\n",
    "plt.show()"
   ]
  },
  {
   "cell_type": "markdown",
   "id": "2d0854c3",
   "metadata": {},
   "source": [
    "We have some linear relationship with rating_counts and text_review_counts."
   ]
  }
 ],
 "metadata": {
  "kernelspec": {
   "display_name": "Python 3 (ipykernel)",
   "language": "python",
   "name": "python3"
  },
  "language_info": {
   "codemirror_mode": {
    "name": "ipython",
    "version": 3
   },
   "file_extension": ".py",
   "mimetype": "text/x-python",
   "name": "python",
   "nbconvert_exporter": "python",
   "pygments_lexer": "ipython3",
   "version": "3.9.7"
  }
 },
 "nbformat": 4,
 "nbformat_minor": 5
}
